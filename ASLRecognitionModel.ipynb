{
  "cells": [
    {
      "cell_type": "markdown",
      "metadata": {
        "id": "view-in-github",
        "colab_type": "text"
      },
      "source": [
        "<a href=\"https://colab.research.google.com/github/Eddysunday012/ASLRecognitionModel/blob/main/ASLRecognitionModel.ipynb\" target=\"_parent\"><img src=\"https://colab.research.google.com/assets/colab-badge.svg\" alt=\"Open In Colab\"/></a>"
      ]
    },
    {
      "cell_type": "code",
      "execution_count": null,
      "metadata": {
        "id": "2IlwhV0z2nMr"
      },
      "outputs": [],
      "source": [
        "%matplotlib inline"
      ]
    },
    {
      "cell_type": "markdown",
      "metadata": {
        "id": "wyRMGyp9Y9c3"
      },
      "source": [
        "## Question 1 - Gesture Recognition using Convolutional Neural Networks\n",
        "---\n",
        "American Sign Language (ASL) is a complete, complex language that employs signs made by moving the hands combined with facial expressions and postures of the body. It is the primary language of many North Americans who are deaf and is one of several communication options used by people who are deaf or hard-of-hearing.\n",
        "\n",
        "The hand gestures representing English alphabet are shown below. In this question, you will focus on classifying these hand gesture images using convolutional neural networks. Specifically, given an image of a hand showing one of the letters, we want to detect which letter is being represented.\n",
        "\n",
        "\n",
        "<img src = 'https://drive.google.com/uc?id=1nRxq6yqDkmumUuePXfDx_5YgGl9vKXcj' width=\"300\">\n",
        "\n",
        "\n",
        "\n",
        "\n"
      ]
    },
    {
      "cell_type": "markdown",
      "metadata": {
        "id": "B1U2O-ElzqES"
      },
      "source": [
        "Run the following code cell to download the training and test data. It might take a while to download the zip file and extract it."
      ]
    },
    {
      "cell_type": "code",
      "execution_count": null,
      "metadata": {
        "id": "iExiItBkdS8F"
      },
      "outputs": [],
      "source": [
        "from pydrive.auth import GoogleAuth\n",
        "from pydrive.drive import GoogleDrive\n",
        "from google.colab import auth\n",
        "from oauth2client.client import GoogleCredentials\n",
        "import io\n",
        "import zipfile\n",
        "auth.authenticate_user()\n",
        "gauth = GoogleAuth()\n",
        "gauth.credentials = GoogleCredentials.get_application_default()\n",
        "drive = GoogleDrive(gauth)\n",
        "\n",
        "file_id = '1jDDjJzhZ7XV5DMRAEg23ymrz-IjnpGIO'\n",
        "downloaded = drive.CreateFile({'id': file_id})\n",
        "downloaded.GetContentFile('data.zip')\n",
        "\n",
        "zip_ref = zipfile.ZipFile(\"data.zip\", 'r')\n",
        "with zipfile.ZipFile('./data.zip', 'r') as zip_ref:\n",
        "    zip_ref.extractall('./')\n",
        "zip_ref.close()"
      ]
    },
    {
      "cell_type": "markdown",
      "metadata": {
        "id": "a2wuuxOO0HuI"
      },
      "source": [
        "###Part A) Understanding and Processing the Data\n",
        "\n",
        "Now that you downloaded the data, you see two folders containing training and test data. Complete the following steps:\n",
        "\n",
        "1) read in the training and test data. Examine the data folders carefully to see how file names and folder names represent different labels (29 labels in total) in the datasets.\n",
        "\n",
        "2) rescale the pixel values of the training and test images from [0,255] to [0,1].\n",
        "\n",
        "3) make sure that all of your imges are of size $200\\times 200$. If not, scale them appropriately.\n",
        "\n",
        "4) Ensure that your target values (classes) are stored appropriately. You must have 29 classes for 'a-z', 'del', 'nothing', and 'space'."
      ]
    },
    {
      "cell_type": "code",
      "execution_count": null,
      "metadata": {
        "colab": {
          "base_uri": "https://localhost:8080/"
        },
        "id": "ixFBCHfu26Te",
        "outputId": "0b189590-dba6-4363-cb06-59d3965c2dde"
      },
      "outputs": [
        {
          "name": "stdout",
          "output_type": "stream",
          "text": [
            "['A', 'B', 'C', 'D', 'E', 'F', 'G', 'H', 'I', 'J', 'K', 'L', 'M', 'N', 'O', 'P', 'Q', 'R', 'S', 'T', 'U', 'V', 'W', 'X', 'Y', 'Z', 'del', 'nothing', 'space']\n"
          ]
        }
      ],
      "source": [
        "import os\n",
        "import string\n",
        "import numpy as np\n",
        "import shutil\n",
        "from matplotlib import image\n",
        "from matplotlib import pyplot as plt\n",
        "from tensorflow.keras.utils import to_categorical\n",
        "\n",
        "label_map = dict(zip(string.ascii_uppercase, range(0,26)))\n",
        "label_map['del'] = 26\n",
        "label_map['nothing'] = 27\n",
        "label_map['space'] = 28\n",
        "\n",
        "directory_type = list(label_map.keys())\n",
        "\n",
        "print(directory_type)"
      ]
    },
    {
      "cell_type": "code",
      "execution_count": null,
      "metadata": {
        "id": "p5LsjUS72Wbd"
      },
      "outputs": [],
      "source": [
        "#Directories\n",
        "train_directory = r'/content/asl_alphabet_train/asl_alphabet_train/'\n",
        "test_directory = r'/content/asl_alphabet_test/asl_alphabet_test/'"
      ]
    },
    {
      "cell_type": "code",
      "execution_count": null,
      "metadata": {
        "id": "FI9X_DvmVDPF"
      },
      "outputs": [],
      "source": [
        "#function to count data in train directory\n",
        "def count_asl_train_data(directory):\n",
        "  img_count = 0\n",
        "  for dir_type in directory_type:\n",
        "    for filename in os.listdir(directory+dir_type):\n",
        "      if filename.endswith(\"jpg\"):\n",
        "        img_count+=1\n",
        "  return img_count"
      ]
    },
    {
      "cell_type": "code",
      "execution_count": null,
      "metadata": {
        "id": "JHw9B8RyzqtI"
      },
      "outputs": [],
      "source": [
        "count = count_asl_train_data(train_directory) / 29\n",
        "train_num = count * 0.6\n",
        "val_num = count * 0.2\n",
        "test_num = count * 0.2"
      ]
    },
    {
      "cell_type": "code",
      "execution_count": null,
      "metadata": {
        "id": "pYNtJqLHbXhx"
      },
      "outputs": [],
      "source": [
        "#functions to load files in directory\n",
        "\n",
        "#for training data\n",
        "def load_train_asl_data(directory, start, end):\n",
        "  X = np.empty((int(end-start), 200, 200, 3), dtype=np.uint8)\n",
        "  y = np.empty((int(end-start),), dtype=np.uint8)\n",
        "\n",
        "  for dir_type in directory_type:\n",
        "    i = 0\n",
        "    for filename in os.listdir(directory+dir_type)[int(start):int(end)]:\n",
        "      if filename.endswith(\".jpg\"):\n",
        "        img_dir = os.path.join(directory+dir_type, filename)\n",
        "        X[i] = image.imread(img_dir)\n",
        "        if X[i].shape != (200, 200, 3):\n",
        "          print(filename)\n",
        "        y[i] = label_map[dir_type]\n",
        "        i+=1\n",
        "\n",
        "  return X, y\n",
        "\n",
        "#for test data\n",
        "def load_test_asl_data(directory):\n",
        "  X = []\n",
        "  y = []\n",
        "\n",
        "  count = 0\n",
        "  for filename in os.listdir(directory):\n",
        "    if filename.endswith(\".jpg\"):\n",
        "      img_dir = os.path.join(directory, filename)\n",
        "      asl_img = image.imread(img_dir)\n",
        "      if asl_img.shape != (200, 200, 3):\n",
        "        print(filename)\n",
        "      X.append(asl_img)\n",
        "      y.append(count)\n",
        "      count+=1\n",
        "\n",
        "  y[26]+=1\n",
        "  y[27]+=1\n",
        "\n",
        "  return np.array(X), np.array(y)"
      ]
    },
    {
      "cell_type": "code",
      "execution_count": null,
      "metadata": {
        "id": "MwB1_7v6gt5z"
      },
      "outputs": [],
      "source": [
        "X_train, y_train = load_train_asl_data(train_directory, 0, train_num)\n",
        "X_val, y_val = load_train_asl_data(train_directory, train_num, train_num+val_num)\n",
        "X_test, y_test = load_train_asl_data(train_directory, train_num+val_num, train_num+val_num+test_num)"
      ]
    },
    {
      "cell_type": "code",
      "execution_count": null,
      "metadata": {
        "id": "V0ePdQvKlrSz"
      },
      "outputs": [],
      "source": [
        "#run to remove datasets as they are loaded into numpy arrays already\n",
        "#%rm -rf asl_alphabet_test/\n",
        "#%rm -rf asl_alphabet_train/"
      ]
    },
    {
      "cell_type": "code",
      "execution_count": null,
      "metadata": {
        "colab": {
          "base_uri": "https://localhost:8080/"
        },
        "id": "oebIDwBgAiNx",
        "outputId": "763e5aee-61eb-41d7-b4f1-151822072e6d"
      },
      "outputs": [
        {
          "data": {
            "text/plain": [
              "(1800,)"
            ]
          },
          "execution_count": 11,
          "metadata": {},
          "output_type": "execute_result"
        }
      ],
      "source": [
        "y_train.shape"
      ]
    },
    {
      "cell_type": "code",
      "execution_count": null,
      "metadata": {
        "colab": {
          "base_uri": "https://localhost:8080/"
        },
        "id": "8oA9YyC7if1s",
        "outputId": "85a7d943-3d9b-484d-f1cd-e8bc438bacf7"
      },
      "outputs": [
        {
          "name": "stdout",
          "output_type": "stream",
          "text": [
            "1.0\n",
            "1.0\n",
            "1.0\n"
          ]
        }
      ],
      "source": [
        "#rescaling the data\n",
        "X_train = X_train/255\n",
        "X_test = X_test/255\n",
        "X_val = X_val/255\n",
        "\n",
        "print(X_train[0].max())\n",
        "print(X_test[0].max())\n",
        "print(X_val[0].max())"
      ]
    },
    {
      "cell_type": "code",
      "execution_count": null,
      "metadata": {
        "colab": {
          "base_uri": "https://localhost:8080/"
        },
        "id": "jc-sFGy4B0hi",
        "outputId": "1099758e-b21e-4f5b-9ccc-c8ac03bc7b32"
      },
      "outputs": [
        {
          "name": "stdout",
          "output_type": "stream",
          "text": [
            "(600, 29)\n"
          ]
        }
      ],
      "source": [
        "y_train = to_categorical(y_train, 29)\n",
        "y_test = to_categorical(y_test, 29)\n",
        "y_val = to_categorical(y_val, 29)\n",
        "\n",
        "print(y_test.shape)"
      ]
    },
    {
      "cell_type": "code",
      "execution_count": null,
      "metadata": {
        "colab": {
          "base_uri": "https://localhost:8080/",
          "height": 269
        },
        "id": "tFszJg4LwoXv",
        "outputId": "312b63a7-7fd4-419f-c2f7-6cb10713fc00"
      },
      "outputs": [
        {
          "data": {
            "image/png": "[encoded data removed]",
            "text/plain": [
              "<Figure size 432x288 with 2 Axes>"
            ]
          },
          "metadata": {},
          "output_type": "display_data"
        }
      ],
      "source": [
        "plt.imshow(X_train[0])\n",
        "plt.colorbar()\n",
        "plt.show()"
      ]
    },
    {
      "cell_type": "markdown",
      "metadata": {
        "id": "v8Ux3Knk3H74"
      },
      "source": [
        "### Part B) Building a Convolutional Neural Network\n",
        "For this assignment, we are not going to give you any starter code. You will be writing a convolutional neural network from scratch. You are welcome to use any code from previous class exercises, section handouts, and lectures. You should also write your own code.\n",
        "\n",
        "You may use the TensorFlow documentation freely. You might also find online tutorials helpful. However, all code that you submit must be your own.\n",
        "\n",
        "Make sure that your code is vectorized, and does not contain obvious inefficiencies (for example, unnecessary for loops). Ensure enough comments are included in the code so that your TA can understand what you are doing. It is your responsibility to show that you understand what you write.\n",
        "\n",
        "Follow the steps below to show your work."
      ]
    },
    {
      "cell_type": "markdown",
      "metadata": {
        "id": "KCPYVJO44BWw"
      },
      "source": [
        "#### Step 1) Building the Network\n",
        "Build a convolutional neural network model that takes the ($200\\times 200$ RGB) image as input, and predicts the letter. Explain your choice of the architecture: how many layers did you choose? What types of layers did you use? Were they fully-connected or convolutional? What about other decisions like pooling layers, activation functions, number of channels / hidden units?"
      ]
    },
    {
      "cell_type": "code",
      "execution_count": null,
      "metadata": {
        "id": "NX8vUwnn5YTJ"
      },
      "outputs": [],
      "source": [
        "from tensorflow.keras import backend as K\n",
        "from tensorflow.keras.models import Sequential\n",
        "from tensorflow.keras.layers import Dense\n",
        "from tensorflow.keras.optimizers import Adam, SGD, Adagrad, Adadelta, RMSprop\n",
        "from tensorflow.keras.layers import Dropout, Flatten, Activation, BatchNormalization,Input\n",
        "from tensorflow.keras.layers import Conv2D, MaxPooling2D\n",
        "\n",
        "import tensorflow as tf"
      ]
    },
    {
      "cell_type": "code",
      "execution_count": null,
      "metadata": {
        "colab": {
          "base_uri": "https://localhost:8080/"
        },
        "id": "zQQfdNHlFNVY",
        "outputId": "20b4c2cd-401f-42b5-f54f-513fc15b8b85"
      },
      "outputs": [
        {
          "name": "stdout",
          "output_type": "stream",
          "text": [
            "Model: \"sequential\"\n",
            "_________________________________________________________________\n",
            "Layer (type)                 Output Shape              Param #   \n",
            "=================================================================\n",
            "conv2d (Conv2D)              (None, 198, 198, 60)      1680      \n",
            "_________________________________________________________________\n",
            "max_pooling2d (MaxPooling2D) (None, 99, 99, 60)        0         \n",
            "_________________________________________________________________\n",
            "conv2d_1 (Conv2D)            (None, 97, 97, 100)       54100     \n",
            "_________________________________________________________________\n",
            "max_pooling2d_1 (MaxPooling2 (None, 48, 48, 100)       0         \n",
            "_________________________________________________________________\n",
            "conv2d_2 (Conv2D)            (None, 46, 46, 50)        45050     \n",
            "_________________________________________________________________\n",
            "max_pooling2d_2 (MaxPooling2 (None, 23, 23, 50)        0         \n",
            "_________________________________________________________________\n",
            "flatten (Flatten)            (None, 26450)             0         \n",
            "_________________________________________________________________\n",
            "dense (Dense)                (None, 100)               2645100   \n",
            "_________________________________________________________________\n",
            "dropout (Dropout)            (None, 100)               0         \n",
            "_________________________________________________________________\n",
            "dense_1 (Dense)              (None, 29)                2929      \n",
            "=================================================================\n",
            "Total params: 2,748,859\n",
            "Trainable params: 2,748,859\n",
            "Non-trainable params: 0\n",
            "_________________________________________________________________\n"
          ]
        }
      ],
      "source": [
        "model = Sequential()\n",
        "\n",
        "model.add(Input(shape=(200,200,3)))\n",
        "model.add(Conv2D(60, (3,3), activation='relu'))\n",
        "model.add(MaxPooling2D(2))\n",
        "\n",
        "model.add(Conv2D(100, (3,3), activation='relu'))\n",
        "model.add(MaxPooling2D(2))\n",
        "\n",
        "model.add(Conv2D(50, (3,3), activation='relu'))\n",
        "model.add(MaxPooling2D(2))\n",
        "\n",
        "model.add(Flatten())\n",
        "model.add(Dense(100, activation='relu'))\n",
        "model.add(Dropout(0.5))\n",
        "\n",
        "model.add(Dense(len(label_map), activation=\"softmax\"))\n",
        "\n",
        "model.summary()"
      ]
    },
    {
      "cell_type": "markdown",
      "metadata": {
        "id": "56Mq94xm5bL_"
      },
      "source": [
        "CNN in beginning\n",
        "\n",
        "Flatten and dropout in the end"
      ]
    },
    {
      "cell_type": "markdown",
      "metadata": {
        "id": "7arv3llO5e6u"
      },
      "source": [
        "#### Step 2) Training the Network\n",
        "Write code that trains your neural network given the training data. Your training code should make it easy to tweak the usual hyperparameters, like batch size, learning rate, and the model object itself. Make sure that you are checkpointing your models from time to time (the frequency is up to you). Explain your choice of loss function and optimizer.\n",
        "\n",
        "Plot the training curve as well."
      ]
    },
    {
      "cell_type": "code",
      "execution_count": null,
      "metadata": {
        "colab": {
          "base_uri": "https://localhost:8080/"
        },
        "id": "fV1ntQiW5vRf",
        "outputId": "423cb6bb-d0fd-48ef-a9c5-1f24f6cfabf8"
      },
      "outputs": [
        {
          "name": "stdout",
          "output_type": "stream",
          "text": [
            "Model: \"sequential\"\n",
            "_________________________________________________________________\n",
            "Layer (type)                 Output Shape              Param #   \n",
            "=================================================================\n",
            "conv2d (Conv2D)              (None, 198, 198, 60)      1680      \n",
            "_________________________________________________________________\n",
            "max_pooling2d (MaxPooling2D) (None, 99, 99, 60)        0         \n",
            "_________________________________________________________________\n",
            "conv2d_1 (Conv2D)            (None, 97, 97, 100)       54100     \n",
            "_________________________________________________________________\n",
            "max_pooling2d_1 (MaxPooling2 (None, 48, 48, 100)       0         \n",
            "_________________________________________________________________\n",
            "conv2d_2 (Conv2D)            (None, 46, 46, 50)        45050     \n",
            "_________________________________________________________________\n",
            "max_pooling2d_2 (MaxPooling2 (None, 23, 23, 50)        0         \n",
            "_________________________________________________________________\n",
            "flatten (Flatten)            (None, 26450)             0         \n",
            "_________________________________________________________________\n",
            "dense (Dense)                (None, 100)               2645100   \n",
            "_________________________________________________________________\n",
            "dropout (Dropout)            (None, 100)               0         \n",
            "_________________________________________________________________\n",
            "dense_1 (Dense)              (None, 29)                2929      \n",
            "=================================================================\n",
            "Total params: 2,748,859\n",
            "Trainable params: 2,748,859\n",
            "Non-trainable params: 0\n",
            "_________________________________________________________________\n"
          ]
        }
      ],
      "source": [
        "opt = RMSprop(learning_rate=0.001)\n",
        "model.compile(optimizer=opt, loss='categorical_crossentropy', metrics = ['accuracy'])\n",
        "model.summary()"
      ]
    },
    {
      "cell_type": "code",
      "execution_count": null,
      "metadata": {
        "id": "d2wD7oX5I1YA"
      },
      "outputs": [],
      "source": [
        "from keras_preprocessing.image import ImageDataGenerator\n",
        "from keras_preprocessing.image import ImageDataGenerator, array_to_img, img_to_array, load_img"
      ]
    },
    {
      "cell_type": "code",
      "execution_count": null,
      "metadata": {
        "id": "4xOuce6TJBt_"
      },
      "outputs": [],
      "source": [
        "train_datagen = ImageDataGenerator(rescale=1./255., validation_split=0.2)"
      ]
    },
    {
      "cell_type": "code",
      "execution_count": null,
      "metadata": {
        "colab": {
          "base_uri": "https://localhost:8080/"
        },
        "id": "_4uURmqOJTya",
        "outputId": "68df281f-f96f-411e-99d6-3d1ab1c6dccf"
      },
      "outputs": [
        {
          "name": "stdout",
          "output_type": "stream",
          "text": [
            "Found 69600 images belonging to 29 classes.\n",
            "Found 17400 images belonging to 29 classes.\n"
          ]
        }
      ],
      "source": [
        "train_generator = train_datagen.flow_from_directory(train_directory,\n",
        "                                                    target_size=(200,200),\n",
        "                                                    batch_size=32,\n",
        "                                                    class_mode='categorical',subset=\"training\")\n",
        "\n",
        "train_generator_val = train_datagen.flow_from_directory(train_directory,\n",
        "                                                    target_size=(200,200),\n",
        "                                                    batch_size=32,\n",
        "                                                    class_mode='categorical',subset=\"validation\")"
      ]
    },
    {
      "cell_type": "code",
      "execution_count": null,
      "metadata": {
        "colab": {
          "base_uri": "https://localhost:8080/"
        },
        "id": "Jiv8RuUhFgQ3",
        "outputId": "806c87f6-a869-42a5-d376-6b47d6872a1d"
      },
      "outputs": [
        {
          "name": "stdout",
          "output_type": "stream",
          "text": [
            "Epoch 1/100\n",
            "60/60 [==============================] - 38s 154ms/step - loss: 3.4361 - accuracy: 0.0401 - val_loss: 3.3690 - val_accuracy: 0.0391\n",
            "Epoch 2/100\n",
            "60/60 [==============================] - 9s 150ms/step - loss: 3.3425 - accuracy: 0.0651 - val_loss: 3.2921 - val_accuracy: 0.0688\n",
            "Epoch 3/100\n",
            "60/60 [==============================] - 9s 149ms/step - loss: 3.1269 - accuracy: 0.1229 - val_loss: 3.1503 - val_accuracy: 0.1578\n",
            "Epoch 4/100\n",
            "60/60 [==============================] - 9s 150ms/step - loss: 2.8589 - accuracy: 0.1990 - val_loss: 2.9150 - val_accuracy: 0.2094\n",
            "Epoch 5/100\n",
            "60/60 [==============================] - 9s 149ms/step - loss: 2.5764 - accuracy: 0.2521 - val_loss: 2.7645 - val_accuracy: 0.2781\n",
            "Epoch 6/100\n",
            "60/60 [==============================] - 9s 149ms/step - loss: 2.3841 - accuracy: 0.3078 - val_loss: 2.6064 - val_accuracy: 0.2453\n",
            "Epoch 7/100\n",
            "60/60 [==============================] - 9s 149ms/step - loss: 2.2231 - accuracy: 0.3464 - val_loss: 2.4486 - val_accuracy: 0.2766\n",
            "Epoch 8/100\n",
            "60/60 [==============================] - 9s 148ms/step - loss: 2.0724 - accuracy: 0.3849 - val_loss: 2.4148 - val_accuracy: 0.2953\n",
            "Epoch 9/100\n",
            "60/60 [==============================] - 9s 150ms/step - loss: 1.8997 - accuracy: 0.4297 - val_loss: 2.1976 - val_accuracy: 0.3031\n",
            "Epoch 10/100\n",
            "60/60 [==============================] - 9s 149ms/step - loss: 1.7659 - accuracy: 0.4599 - val_loss: 2.1898 - val_accuracy: 0.3328\n",
            "Epoch 11/100\n",
            "60/60 [==============================] - 9s 148ms/step - loss: 1.6509 - accuracy: 0.4891 - val_loss: 1.9989 - val_accuracy: 0.3641\n",
            "Epoch 12/100\n",
            "60/60 [==============================] - 9s 149ms/step - loss: 1.5691 - accuracy: 0.5151 - val_loss: 1.9297 - val_accuracy: 0.3594\n",
            "Epoch 13/100\n",
            "60/60 [==============================] - 9s 149ms/step - loss: 1.5085 - accuracy: 0.5255 - val_loss: 1.8481 - val_accuracy: 0.4109\n",
            "Epoch 14/100\n",
            "60/60 [==============================] - 9s 149ms/step - loss: 1.3374 - accuracy: 0.5703 - val_loss: 1.7577 - val_accuracy: 0.4563\n",
            "Epoch 15/100\n",
            "60/60 [==============================] - 9s 148ms/step - loss: 1.3488 - accuracy: 0.5740 - val_loss: 1.6897 - val_accuracy: 0.4828\n",
            "Epoch 16/100\n",
            "60/60 [==============================] - 9s 149ms/step - loss: 1.2553 - accuracy: 0.5943 - val_loss: 1.5077 - val_accuracy: 0.5219\n",
            "Epoch 17/100\n",
            "60/60 [==============================] - 9s 149ms/step - loss: 1.1899 - accuracy: 0.6276 - val_loss: 1.4297 - val_accuracy: 0.5344\n",
            "Epoch 18/100\n",
            "60/60 [==============================] - 9s 149ms/step - loss: 1.1646 - accuracy: 0.6271 - val_loss: 1.6217 - val_accuracy: 0.5172\n",
            "Epoch 19/100\n",
            "60/60 [==============================] - 9s 149ms/step - loss: 1.0812 - accuracy: 0.6391 - val_loss: 1.4358 - val_accuracy: 0.5250\n",
            "Epoch 20/100\n",
            "60/60 [==============================] - 9s 148ms/step - loss: 1.0898 - accuracy: 0.6380 - val_loss: 1.3851 - val_accuracy: 0.5312\n",
            "Epoch 21/100\n",
            "60/60 [==============================] - 9s 148ms/step - loss: 1.0091 - accuracy: 0.6719 - val_loss: 1.3274 - val_accuracy: 0.5547\n",
            "Epoch 22/100\n",
            "60/60 [==============================] - 9s 149ms/step - loss: 0.9678 - accuracy: 0.6849 - val_loss: 1.2548 - val_accuracy: 0.5672\n",
            "Epoch 23/100\n",
            "60/60 [==============================] - 9s 149ms/step - loss: 0.9468 - accuracy: 0.6974 - val_loss: 1.4516 - val_accuracy: 0.5219\n",
            "Epoch 24/100\n",
            "60/60 [==============================] - 9s 149ms/step - loss: 0.8659 - accuracy: 0.7177 - val_loss: 1.1647 - val_accuracy: 0.6125\n",
            "Epoch 25/100\n",
            "60/60 [==============================] - 9s 149ms/step - loss: 0.8613 - accuracy: 0.7151 - val_loss: 1.2062 - val_accuracy: 0.6031\n",
            "Epoch 26/100\n",
            "60/60 [==============================] - 9s 149ms/step - loss: 0.8530 - accuracy: 0.7203 - val_loss: 1.1077 - val_accuracy: 0.6094\n",
            "Epoch 27/100\n",
            "60/60 [==============================] - 9s 149ms/step - loss: 0.7432 - accuracy: 0.7625 - val_loss: 1.1470 - val_accuracy: 0.5953\n",
            "Epoch 28/100\n",
            "60/60 [==============================] - 9s 148ms/step - loss: 0.7821 - accuracy: 0.7391 - val_loss: 0.9793 - val_accuracy: 0.6672\n",
            "Epoch 29/100\n",
            "60/60 [==============================] - 9s 148ms/step - loss: 0.7479 - accuracy: 0.7437 - val_loss: 1.1730 - val_accuracy: 0.6109\n",
            "Epoch 30/100\n",
            "60/60 [==============================] - 9s 149ms/step - loss: 0.7295 - accuracy: 0.7568 - val_loss: 0.9592 - val_accuracy: 0.6812\n",
            "Epoch 31/100\n",
            "60/60 [==============================] - 9s 149ms/step - loss: 0.7467 - accuracy: 0.7667 - val_loss: 1.0190 - val_accuracy: 0.6438\n",
            "Epoch 32/100\n",
            "60/60 [==============================] - 9s 149ms/step - loss: 0.6984 - accuracy: 0.7641 - val_loss: 1.1508 - val_accuracy: 0.6250\n",
            "Epoch 33/100\n",
            "60/60 [==============================] - 9s 148ms/step - loss: 0.6507 - accuracy: 0.7802 - val_loss: 0.9968 - val_accuracy: 0.6516\n",
            "Epoch 34/100\n",
            "60/60 [==============================] - 9s 148ms/step - loss: 0.6758 - accuracy: 0.7729 - val_loss: 0.9265 - val_accuracy: 0.6672\n",
            "Epoch 35/100\n",
            "60/60 [==============================] - 9s 148ms/step - loss: 0.6384 - accuracy: 0.7979 - val_loss: 0.9694 - val_accuracy: 0.6500\n",
            "Epoch 36/100\n",
            "60/60 [==============================] - 9s 149ms/step - loss: 0.5597 - accuracy: 0.8188 - val_loss: 1.0745 - val_accuracy: 0.6203\n",
            "Epoch 37/100\n",
            "60/60 [==============================] - 9s 149ms/step - loss: 0.6601 - accuracy: 0.7703 - val_loss: 0.9783 - val_accuracy: 0.6531\n",
            "Epoch 38/100\n",
            "60/60 [==============================] - 9s 148ms/step - loss: 0.6148 - accuracy: 0.8000 - val_loss: 0.9883 - val_accuracy: 0.6609\n",
            "Epoch 39/100\n",
            "60/60 [==============================] - 9s 149ms/step - loss: 0.5626 - accuracy: 0.8161 - val_loss: 0.8775 - val_accuracy: 0.6875\n",
            "Epoch 40/100\n",
            "60/60 [==============================] - 9s 148ms/step - loss: 0.5480 - accuracy: 0.8094 - val_loss: 0.9672 - val_accuracy: 0.6719\n",
            "Epoch 41/100\n",
            "60/60 [==============================] - 9s 149ms/step - loss: 0.5800 - accuracy: 0.8167 - val_loss: 0.8868 - val_accuracy: 0.6891\n",
            "Epoch 42/100\n",
            "60/60 [==============================] - 9s 148ms/step - loss: 0.5611 - accuracy: 0.8219 - val_loss: 0.9745 - val_accuracy: 0.6578\n",
            "Epoch 43/100\n",
            "60/60 [==============================] - 9s 149ms/step - loss: 0.5736 - accuracy: 0.8068 - val_loss: 1.1138 - val_accuracy: 0.6203\n",
            "Epoch 44/100\n",
            "60/60 [==============================] - 9s 149ms/step - loss: 0.5708 - accuracy: 0.8214 - val_loss: 1.1444 - val_accuracy: 0.6359\n",
            "Epoch 45/100\n",
            "60/60 [==============================] - 9s 148ms/step - loss: 0.5657 - accuracy: 0.8135 - val_loss: 1.0088 - val_accuracy: 0.6625\n",
            "Epoch 46/100\n",
            "60/60 [==============================] - 9s 149ms/step - loss: 0.5563 - accuracy: 0.8344 - val_loss: 1.1570 - val_accuracy: 0.5797\n",
            "Epoch 47/100\n",
            "60/60 [==============================] - 9s 148ms/step - loss: 0.5640 - accuracy: 0.8250 - val_loss: 0.9231 - val_accuracy: 0.6547\n",
            "Epoch 48/100\n",
            "60/60 [==============================] - 9s 148ms/step - loss: 0.5398 - accuracy: 0.8292 - val_loss: 1.0340 - val_accuracy: 0.6375\n",
            "Epoch 49/100\n",
            "60/60 [==============================] - 9s 149ms/step - loss: 0.5131 - accuracy: 0.8344 - val_loss: 1.5416 - val_accuracy: 0.6000\n",
            "Epoch 50/100\n",
            "60/60 [==============================] - 9s 149ms/step - loss: 0.5862 - accuracy: 0.8151 - val_loss: 0.9190 - val_accuracy: 0.6875\n",
            "Epoch 51/100\n",
            "60/60 [==============================] - 9s 149ms/step - loss: 0.5065 - accuracy: 0.8443 - val_loss: 0.9956 - val_accuracy: 0.6797\n",
            "Epoch 52/100\n",
            "60/60 [==============================] - 9s 149ms/step - loss: 0.5505 - accuracy: 0.8224 - val_loss: 0.9424 - val_accuracy: 0.6484\n",
            "Epoch 53/100\n",
            "60/60 [==============================] - 9s 148ms/step - loss: 0.4907 - accuracy: 0.8536 - val_loss: 1.2148 - val_accuracy: 0.6547\n",
            "Epoch 54/100\n",
            "60/60 [==============================] - 9s 148ms/step - loss: 0.4723 - accuracy: 0.8531 - val_loss: 0.9762 - val_accuracy: 0.6734\n",
            "Epoch 55/100\n",
            "60/60 [==============================] - 9s 148ms/step - loss: 0.5098 - accuracy: 0.8333 - val_loss: 0.8570 - val_accuracy: 0.6734\n",
            "Epoch 56/100\n",
            "60/60 [==============================] - 9s 149ms/step - loss: 0.4497 - accuracy: 0.8615 - val_loss: 0.8613 - val_accuracy: 0.7125\n",
            "Epoch 57/100\n",
            "60/60 [==============================] - 9s 148ms/step - loss: 0.4521 - accuracy: 0.8521 - val_loss: 0.7905 - val_accuracy: 0.7031\n",
            "Epoch 58/100\n",
            "60/60 [==============================] - 9s 149ms/step - loss: 0.4789 - accuracy: 0.8526 - val_loss: 0.8128 - val_accuracy: 0.7141\n",
            "Epoch 59/100\n",
            "60/60 [==============================] - 9s 149ms/step - loss: 0.4695 - accuracy: 0.8583 - val_loss: 0.8725 - val_accuracy: 0.7328\n",
            "Epoch 60/100\n",
            "60/60 [==============================] - 9s 149ms/step - loss: 0.4900 - accuracy: 0.8495 - val_loss: 1.1099 - val_accuracy: 0.6672\n",
            "Epoch 61/100\n",
            "60/60 [==============================] - 9s 149ms/step - loss: 0.4768 - accuracy: 0.8469 - val_loss: 1.0197 - val_accuracy: 0.7047\n",
            "Epoch 62/100\n",
            "60/60 [==============================] - 9s 149ms/step - loss: 0.4544 - accuracy: 0.8552 - val_loss: 0.9378 - val_accuracy: 0.7156\n",
            "Epoch 63/100\n",
            "60/60 [==============================] - 9s 149ms/step - loss: 0.4442 - accuracy: 0.8609 - val_loss: 0.8035 - val_accuracy: 0.7188\n",
            "Epoch 64/100\n",
            "60/60 [==============================] - 9s 149ms/step - loss: 0.4742 - accuracy: 0.8464 - val_loss: 1.0704 - val_accuracy: 0.6906\n",
            "Epoch 65/100\n",
            "60/60 [==============================] - 9s 148ms/step - loss: 0.4685 - accuracy: 0.8495 - val_loss: 0.8994 - val_accuracy: 0.6938\n",
            "Epoch 66/100\n",
            "60/60 [==============================] - 9s 148ms/step - loss: 0.4252 - accuracy: 0.8708 - val_loss: 0.8147 - val_accuracy: 0.7437\n",
            "Epoch 67/100\n",
            "60/60 [==============================] - 9s 149ms/step - loss: 0.5671 - accuracy: 0.8526 - val_loss: 1.0732 - val_accuracy: 0.6609\n",
            "Epoch 68/100\n",
            "60/60 [==============================] - 9s 148ms/step - loss: 0.4483 - accuracy: 0.8609 - val_loss: 0.8656 - val_accuracy: 0.6906\n",
            "Epoch 69/100\n",
            "60/60 [==============================] - 9s 148ms/step - loss: 0.4442 - accuracy: 0.8687 - val_loss: 1.0068 - val_accuracy: 0.6547\n",
            "Epoch 70/100\n",
            "60/60 [==============================] - 9s 149ms/step - loss: 0.4514 - accuracy: 0.8651 - val_loss: 1.2032 - val_accuracy: 0.7203\n",
            "Epoch 71/100\n",
            "60/60 [==============================] - 9s 149ms/step - loss: 0.4237 - accuracy: 0.8661 - val_loss: 1.4238 - val_accuracy: 0.5375\n",
            "Epoch 72/100\n",
            "60/60 [==============================] - 9s 148ms/step - loss: 0.4300 - accuracy: 0.8562 - val_loss: 1.1834 - val_accuracy: 0.5891\n",
            "Epoch 73/100\n",
            "60/60 [==============================] - 9s 149ms/step - loss: 0.4700 - accuracy: 0.8724 - val_loss: 1.2565 - val_accuracy: 0.6969\n",
            "Epoch 74/100\n",
            "60/60 [==============================] - 9s 149ms/step - loss: 0.4358 - accuracy: 0.8599 - val_loss: 1.3024 - val_accuracy: 0.6750\n",
            "Epoch 75/100\n",
            "60/60 [==============================] - 9s 148ms/step - loss: 0.4807 - accuracy: 0.8630 - val_loss: 0.9216 - val_accuracy: 0.6953\n",
            "Epoch 76/100\n",
            "60/60 [==============================] - 9s 149ms/step - loss: 0.4634 - accuracy: 0.8687 - val_loss: 0.9240 - val_accuracy: 0.7203\n",
            "Epoch 77/100\n",
            "60/60 [==============================] - 9s 147ms/step - loss: 0.4142 - accuracy: 0.8625 - val_loss: 1.1840 - val_accuracy: 0.6844\n",
            "Epoch 78/100\n",
            "60/60 [==============================] - 9s 148ms/step - loss: 0.4345 - accuracy: 0.8599 - val_loss: 0.8922 - val_accuracy: 0.7203\n",
            "Epoch 79/100\n",
            "60/60 [==============================] - 9s 148ms/step - loss: 0.4260 - accuracy: 0.8740 - val_loss: 0.9608 - val_accuracy: 0.6672\n",
            "Epoch 80/100\n",
            "60/60 [==============================] - 9s 149ms/step - loss: 0.4172 - accuracy: 0.8859 - val_loss: 0.9266 - val_accuracy: 0.6953\n",
            "Epoch 81/100\n",
            "60/60 [==============================] - 9s 149ms/step - loss: 0.4640 - accuracy: 0.8703 - val_loss: 1.9306 - val_accuracy: 0.6266\n",
            "Epoch 82/100\n",
            "60/60 [==============================] - 9s 149ms/step - loss: 0.4566 - accuracy: 0.8698 - val_loss: 1.2916 - val_accuracy: 0.6938\n",
            "Epoch 83/100\n",
            "60/60 [==============================] - 9s 148ms/step - loss: 0.3860 - accuracy: 0.8776 - val_loss: 0.8814 - val_accuracy: 0.7094\n",
            "Epoch 84/100\n",
            "60/60 [==============================] - 9s 147ms/step - loss: 0.4335 - accuracy: 0.8802 - val_loss: 0.7285 - val_accuracy: 0.7750\n",
            "Epoch 85/100\n",
            "60/60 [==============================] - 9s 149ms/step - loss: 0.3722 - accuracy: 0.8870 - val_loss: 0.9521 - val_accuracy: 0.7063\n",
            "Epoch 86/100\n",
            "60/60 [==============================] - 9s 150ms/step - loss: 0.4681 - accuracy: 0.8687 - val_loss: 0.9695 - val_accuracy: 0.7000\n",
            "Epoch 87/100\n",
            "60/60 [==============================] - 9s 148ms/step - loss: 0.5067 - accuracy: 0.8531 - val_loss: 1.2723 - val_accuracy: 0.6422\n",
            "Epoch 88/100\n",
            "60/60 [==============================] - 9s 149ms/step - loss: 0.4158 - accuracy: 0.8797 - val_loss: 1.1800 - val_accuracy: 0.7266\n",
            "Epoch 89/100\n",
            "60/60 [==============================] - 9s 149ms/step - loss: 0.4855 - accuracy: 0.8630 - val_loss: 0.7991 - val_accuracy: 0.7266\n",
            "Epoch 90/100\n",
            "60/60 [==============================] - 9s 149ms/step - loss: 0.4697 - accuracy: 0.8682 - val_loss: 0.8125 - val_accuracy: 0.7203\n",
            "Epoch 91/100\n",
            "60/60 [==============================] - 9s 149ms/step - loss: 0.4950 - accuracy: 0.8609 - val_loss: 1.1329 - val_accuracy: 0.6781\n",
            "Epoch 92/100\n",
            "60/60 [==============================] - 9s 149ms/step - loss: 0.4313 - accuracy: 0.8729 - val_loss: 0.8923 - val_accuracy: 0.7266\n",
            "Epoch 93/100\n",
            "60/60 [==============================] - 9s 148ms/step - loss: 0.4454 - accuracy: 0.8745 - val_loss: 1.2336 - val_accuracy: 0.5688\n",
            "Epoch 94/100\n",
            "60/60 [==============================] - 9s 150ms/step - loss: 0.4231 - accuracy: 0.8776 - val_loss: 0.9226 - val_accuracy: 0.7234\n",
            "Epoch 95/100\n",
            "60/60 [==============================] - 9s 148ms/step - loss: 0.4358 - accuracy: 0.8682 - val_loss: 0.9273 - val_accuracy: 0.6844\n",
            "Epoch 96/100\n",
            "60/60 [==============================] - 9s 147ms/step - loss: 0.4180 - accuracy: 0.8880 - val_loss: 1.1799 - val_accuracy: 0.6156\n",
            "Epoch 97/100\n",
            "60/60 [==============================] - 9s 148ms/step - loss: 0.4740 - accuracy: 0.8698 - val_loss: 1.2140 - val_accuracy: 0.6109\n",
            "Epoch 98/100\n",
            "60/60 [==============================] - 9s 148ms/step - loss: 0.4078 - accuracy: 0.8786 - val_loss: 0.9565 - val_accuracy: 0.6938\n",
            "Epoch 99/100\n",
            "60/60 [==============================] - 9s 148ms/step - loss: 0.4400 - accuracy: 0.8807 - val_loss: 0.8274 - val_accuracy: 0.7437\n",
            "Epoch 100/100\n",
            "60/60 [==============================] - 9s 149ms/step - loss: 0.4256 - accuracy: 0.8792 - val_loss: 1.3584 - val_accuracy: 0.5828\n"
          ]
        }
      ],
      "source": [
        "history = model.fit(train_generator, steps_per_epoch=60,validation_data=train_generator_val,validation_steps=20, epochs=100)"
      ]
    },
    {
      "cell_type": "code",
      "execution_count": null,
      "metadata": {
        "colab": {
          "base_uri": "https://localhost:8080/",
          "height": 573
        },
        "id": "WMbCPJxyP3NJ",
        "outputId": "cdf4ab4b-856e-424d-fb19-633346f1380a"
      },
      "outputs": [
        {
          "data": {
            "image/png": "[encoded data removed]",
            "text/plain": [
              "<Figure size 432x288 with 1 Axes>"
            ]
          },
          "metadata": {},
          "output_type": "display_data"
        },
        {
          "data": {
            "image/png": "[encoded data removed]",
            "text/plain": [
              "<Figure size 432x288 with 1 Axes>"
            ]
          },
          "metadata": {},
          "output_type": "display_data"
        }
      ],
      "source": [
        "def plot_loss(history):\n",
        "  plt.plot(history.history['loss'])\n",
        "  plt.plot(history.history['val_loss'])\n",
        "  plt.title('Model Loss')\n",
        "  plt.ylabel('Loss')\n",
        "  plt.xlabel('Epochs')\n",
        "  plt.legend(['train', 'test'])\n",
        "  plt.show()\n",
        "\n",
        "def plot_acc(history):\n",
        "  plt.plot(history.history['accuracy'])\n",
        "  plt.plot(history.history['val_accuracy'])\n",
        "  plt.title('Model Accuracy')\n",
        "  plt.ylabel('Accuracy')\n",
        "  plt.xlabel('Epochs')\n",
        "  plt.legend(['train', 'test'])\n",
        "  plt.show()\n",
        "\n",
        "plot_loss(history)\n",
        "plot_acc(history)"
      ]
    },
    {
      "cell_type": "markdown",
      "metadata": {
        "id": "6JhuuJEvobnR"
      },
      "source": [
        "![picture](https://drive.google.com/file/d/1V1GT2iAvYwFBhnijWlcXTrw1_dLHIv0z/view?usp=sharing)\n",
        "\n",
        "![picture](https://drive.google.com/file/d/1lDyuo63Yyihw1iTJBUM7fHyNGeyliyuW/view?usp=sharing)"
      ]
    },
    {
      "cell_type": "code",
      "execution_count": null,
      "metadata": {
        "id": "LqVVmlr_8bud"
      },
      "outputs": [],
      "source": [
        "#run to remove datasets as they are loaded into numpy arrays already\n",
        "%rm -rf asl_alphabet_test/\n",
        "%rm -rf asl_alphabet_train/"
      ]
    },
    {
      "cell_type": "markdown",
      "metadata": {
        "id": "WUFE8Akq5x2M"
      },
      "source": [
        "[YOUR ANSWER HERE]"
      ]
    },
    {
      "cell_type": "markdown",
      "metadata": {
        "id": "dShVlLyX6DFj"
      },
      "source": [
        "#### Step 3) Overfit to A Small Dataset\n",
        "\n",
        "One way to sanity check our neural network model and training code is to check whether the model is capable of overfitting or memorizing a small dataset. A properly constructed CNN with correct training code should be able to memorize the answers to a small number of images quickly.\n",
        "\n",
        "Construct a small dataset (e.g. sample from the training data). Then show that your model and training code is capable of memorizing the labels of this small data set.\n",
        "\n",
        "With a large batch size (e.g. the entire small dataset) and a learning rate that is not too high, you should be able to obtain a 100% training accuracy on that small dataset relatively quickly."
      ]
    },
    {
      "cell_type": "code",
      "execution_count": null,
      "metadata": {
        "colab": {
          "background_save": true,
          "base_uri": "https://localhost:8080/"
        },
        "id": "dVY46l4A5_Dy",
        "outputId": "195aab3b-8b5b-4954-a3a2-fd4e5761c2a6"
      },
      "outputs": [
        {
          "name": "stdout",
          "output_type": "stream",
          "text": [
            "Epoch 1/100\n",
            "3/3 [==============================] - 7s 801ms/step - loss: 0.3971 - accuracy: 0.9000\n",
            "Epoch 2/100\n",
            "3/3 [==============================] - 2s 800ms/step - loss: 0.0646 - accuracy: 0.9850\n",
            "Epoch 3/100\n",
            "3/3 [==============================] - 2s 796ms/step - loss: 0.0411 - accuracy: 0.9900\n",
            "Epoch 4/100\n",
            "3/3 [==============================] - 2s 800ms/step - loss: 0.0319 - accuracy: 0.9917\n",
            "Epoch 5/100\n",
            "3/3 [==============================] - 2s 803ms/step - loss: 0.0174 - accuracy: 0.9933\n",
            "Epoch 6/100\n",
            "3/3 [==============================] - 2s 798ms/step - loss: 0.0079 - accuracy: 1.0000\n",
            "Epoch 7/100\n",
            "3/3 [==============================] - 2s 802ms/step - loss: 0.0189 - accuracy: 0.9917\n",
            "Epoch 8/100\n",
            "3/3 [==============================] - 2s 792ms/step - loss: 0.0090 - accuracy: 0.9983\n",
            "Epoch 9/100\n",
            "3/3 [==============================] - 2s 800ms/step - loss: 0.0061 - accuracy: 0.9983\n",
            "Epoch 10/100\n",
            "3/3 [==============================] - 2s 794ms/step - loss: 0.0037 - accuracy: 1.0000\n",
            "Epoch 11/100\n",
            "3/3 [==============================] - 2s 800ms/step - loss: 0.0073 - accuracy: 0.9983\n",
            "Epoch 12/100\n",
            "3/3 [==============================] - 2s 795ms/step - loss: 0.0041 - accuracy: 1.0000\n",
            "Epoch 13/100\n",
            "3/3 [==============================] - 2s 801ms/step - loss: 0.0051 - accuracy: 0.9983\n",
            "Epoch 14/100\n",
            "3/3 [==============================] - 2s 801ms/step - loss: 0.0020 - accuracy: 1.0000\n",
            "Epoch 15/100\n",
            "3/3 [==============================] - 2s 791ms/step - loss: 0.0139 - accuracy: 0.9983\n",
            "Epoch 16/100\n",
            "3/3 [==============================] - 2s 798ms/step - loss: 0.0060 - accuracy: 0.9967\n",
            "Epoch 17/100\n",
            "3/3 [==============================] - 2s 802ms/step - loss: 0.0044 - accuracy: 0.9983\n",
            "Epoch 18/100\n",
            "3/3 [==============================] - 2s 799ms/step - loss: 0.0017 - accuracy: 1.0000\n",
            "Epoch 19/100\n",
            "3/3 [==============================] - 2s 794ms/step - loss: 1.8871e-04 - accuracy: 1.0000\n",
            "Epoch 20/100\n",
            "3/3 [==============================] - 2s 803ms/step - loss: 0.0870 - accuracy: 0.9867\n",
            "Epoch 21/100\n",
            "3/3 [==============================] - 2s 801ms/step - loss: 7.1988e-04 - accuracy: 1.0000\n",
            "Epoch 22/100\n",
            "3/3 [==============================] - 2s 794ms/step - loss: 0.0074 - accuracy: 0.9967\n",
            "Epoch 23/100\n",
            "3/3 [==============================] - 2s 799ms/step - loss: 0.0026 - accuracy: 1.0000\n",
            "Epoch 24/100\n",
            "3/3 [==============================] - 2s 793ms/step - loss: 6.0173e-04 - accuracy: 1.0000\n",
            "Epoch 25/100\n",
            "3/3 [==============================] - 2s 804ms/step - loss: 3.9410e-04 - accuracy: 1.0000\n",
            "Epoch 26/100\n",
            "3/3 [==============================] - 2s 801ms/step - loss: 1.6078e-04 - accuracy: 1.0000\n",
            "Epoch 27/100\n",
            "3/3 [==============================] - 2s 802ms/step - loss: 0.0031 - accuracy: 0.9983\n",
            "Epoch 28/100\n",
            "3/3 [==============================] - 2s 801ms/step - loss: 1.6996e-04 - accuracy: 1.0000\n",
            "Epoch 29/100\n",
            "3/3 [==============================] - 2s 803ms/step - loss: 2.9640e-05 - accuracy: 1.0000\n",
            "Epoch 30/100\n",
            "3/3 [==============================] - 2s 788ms/step - loss: 0.0191 - accuracy: 0.9967\n",
            "Epoch 31/100\n",
            "3/3 [==============================] - 2s 796ms/step - loss: 2.5409e-04 - accuracy: 1.0000\n",
            "Epoch 32/100\n",
            "3/3 [==============================] - 2s 804ms/step - loss: 5.0186e-04 - accuracy: 1.0000\n",
            "Epoch 33/100\n",
            "3/3 [==============================] - 2s 795ms/step - loss: 2.1741e-04 - accuracy: 1.0000\n",
            "Epoch 34/100\n",
            "3/3 [==============================] - 2s 798ms/step - loss: 0.0053 - accuracy: 0.9983\n",
            "Epoch 35/100\n",
            "3/3 [==============================] - 2s 796ms/step - loss: 0.0140 - accuracy: 0.9983\n",
            "Epoch 36/100\n",
            "3/3 [==============================] - 2s 795ms/step - loss: 0.0010 - accuracy: 1.0000\n",
            "Epoch 37/100\n",
            "3/3 [==============================] - 2s 793ms/step - loss: 0.0016 - accuracy: 0.9983\n",
            "Epoch 38/100\n",
            "3/3 [==============================] - 2s 804ms/step - loss: 1.2186e-04 - accuracy: 1.0000\n",
            "Epoch 39/100\n",
            "3/3 [==============================] - 2s 788ms/step - loss: 0.0011 - accuracy: 1.0000\n",
            "Epoch 40/100\n",
            "3/3 [==============================] - 2s 798ms/step - loss: 1.0055e-04 - accuracy: 1.0000\n",
            "Epoch 41/100\n",
            "3/3 [==============================] - 2s 804ms/step - loss: 1.0534e-04 - accuracy: 1.0000\n",
            "Epoch 42/100\n",
            "3/3 [==============================] - 2s 794ms/step - loss: 6.2105e-05 - accuracy: 1.0000\n",
            "Epoch 43/100\n",
            "3/3 [==============================] - 2s 796ms/step - loss: 5.5687e-04 - accuracy: 1.0000\n",
            "Epoch 44/100\n",
            "3/3 [==============================] - 2s 786ms/step - loss: 9.1056e-06 - accuracy: 1.0000\n",
            "Epoch 45/100\n",
            "3/3 [==============================] - 2s 782ms/step - loss: 8.5648e-05 - accuracy: 1.0000\n",
            "Epoch 46/100\n",
            "3/3 [==============================] - 2s 800ms/step - loss: 5.8227e-05 - accuracy: 1.0000\n",
            "Epoch 47/100\n",
            "3/3 [==============================] - 2s 797ms/step - loss: 3.8256e-05 - accuracy: 1.0000\n",
            "Epoch 48/100\n",
            "3/3 [==============================] - 2s 802ms/step - loss: 2.4125e-04 - accuracy: 1.0000\n",
            "Epoch 49/100\n",
            "3/3 [==============================] - 2s 803ms/step - loss: 4.8219e-06 - accuracy: 1.0000\n",
            "Epoch 50/100\n",
            "3/3 [==============================] - 2s 793ms/step - loss: 3.2026e-05 - accuracy: 1.0000\n",
            "Epoch 51/100\n",
            "3/3 [==============================] - 2s 797ms/step - loss: 6.2942e-05 - accuracy: 1.0000\n",
            "Epoch 52/100\n",
            "3/3 [==============================] - 2s 796ms/step - loss: 6.4317e-05 - accuracy: 1.0000\n",
            "Epoch 53/100\n",
            "3/3 [==============================] - 2s 801ms/step - loss: 2.9598e-06 - accuracy: 1.0000\n",
            "Epoch 54/100\n",
            "3/3 [==============================] - 2s 804ms/step - loss: 9.6608e-05 - accuracy: 1.0000\n",
            "Epoch 55/100\n",
            "3/3 [==============================] - 2s 794ms/step - loss: 0.0118 - accuracy: 0.9983\n",
            "Epoch 56/100\n",
            "3/3 [==============================] - 2s 799ms/step - loss: 4.8846e-05 - accuracy: 1.0000\n",
            "Epoch 57/100\n",
            "3/3 [==============================] - 2s 795ms/step - loss: 2.0046e-05 - accuracy: 1.0000\n",
            "Epoch 58/100\n",
            "3/3 [==============================] - 2s 795ms/step - loss: 4.6262e-05 - accuracy: 1.0000\n",
            "Epoch 59/100\n",
            "3/3 [==============================] - 2s 793ms/step - loss: 1.8319e-04 - accuracy: 1.0000\n",
            "Epoch 60/100\n",
            "3/3 [==============================] - 2s 791ms/step - loss: 2.6480e-06 - accuracy: 1.0000\n",
            "Epoch 61/100\n",
            "3/3 [==============================] - 2s 796ms/step - loss: 7.1310 - accuracy: 0.8633\n",
            "Epoch 62/100\n",
            "3/3 [==============================] - 2s 787ms/step - loss: 4.8909e-07 - accuracy: 1.0000\n",
            "Epoch 63/100\n",
            "3/3 [==============================] - 2s 799ms/step - loss: 1.9212e-06 - accuracy: 1.0000\n",
            "Epoch 64/100\n",
            "3/3 [==============================] - 2s 795ms/step - loss: 8.3446e-09 - accuracy: 1.0000\n",
            "Epoch 65/100\n",
            "3/3 [==============================] - 2s 799ms/step - loss: 0.0021 - accuracy: 0.9983\n",
            "Epoch 66/100\n",
            "3/3 [==============================] - 2s 785ms/step - loss: 1.4073e-05 - accuracy: 1.0000\n",
            "Epoch 67/100\n",
            "3/3 [==============================] - 2s 794ms/step - loss: 3.6138e-05 - accuracy: 1.0000\n",
            "Epoch 68/100\n",
            "3/3 [==============================] - 2s 798ms/step - loss: 3.9736e-10 - accuracy: 1.0000\n",
            "Epoch 69/100\n",
            "3/3 [==============================] - 2s 800ms/step - loss: 5.8347e-06 - accuracy: 1.0000\n",
            "Epoch 70/100\n",
            "3/3 [==============================] - 2s 795ms/step - loss: 7.1525e-09 - accuracy: 1.0000\n",
            "Epoch 71/100\n",
            "3/3 [==============================] - 2s 784ms/step - loss: 4.7684e-09 - accuracy: 1.0000\n",
            "Epoch 72/100\n",
            "3/3 [==============================] - 2s 793ms/step - loss: 6.0796e-08 - accuracy: 1.0000\n",
            "Epoch 73/100\n",
            "3/3 [==============================] - 2s 798ms/step - loss: 1.9868e-10 - accuracy: 1.0000\n",
            "Epoch 74/100\n",
            "3/3 [==============================] - 2s 797ms/step - loss: 0.0000e+00 - accuracy: 1.0000\n",
            "Epoch 75/100\n",
            "3/3 [==============================] - 2s 787ms/step - loss: 3.5891e-06 - accuracy: 1.0000\n",
            "Epoch 76/100\n",
            "3/3 [==============================] - 2s 792ms/step - loss: 3.1789e-08 - accuracy: 1.0000\n",
            "Epoch 77/100\n",
            "3/3 [==============================] - 2s 788ms/step - loss: 6.8346e-06 - accuracy: 1.0000\n",
            "Epoch 78/100\n",
            "3/3 [==============================] - 2s 793ms/step - loss: 7.8989e-04 - accuracy: 1.0000\n",
            "Epoch 79/100\n",
            "3/3 [==============================] - 2s 797ms/step - loss: 2.7250e-06 - accuracy: 1.0000\n",
            "Epoch 80/100\n",
            "3/3 [==============================] - 2s 794ms/step - loss: 4.5697e-09 - accuracy: 1.0000\n",
            "Epoch 81/100\n",
            "3/3 [==============================] - 2s 791ms/step - loss: 7.5499e-09 - accuracy: 1.0000\n",
            "Epoch 82/100\n",
            "3/3 [==============================] - 2s 792ms/step - loss: 1.1448e-06 - accuracy: 1.0000\n",
            "Epoch 83/100\n",
            "3/3 [==============================] - 2s 793ms/step - loss: 1.3153e-07 - accuracy: 1.0000\n",
            "Epoch 84/100\n",
            "3/3 [==============================] - 2s 801ms/step - loss: 0.0019 - accuracy: 0.9983\n",
            "Epoch 85/100\n",
            "3/3 [==============================] - 2s 785ms/step - loss: 2.5903e-05 - accuracy: 1.0000\n",
            "Epoch 86/100\n",
            "3/3 [==============================] - 2s 793ms/step - loss: 1.6689e-08 - accuracy: 1.0000\n",
            "Epoch 87/100\n",
            "3/3 [==============================] - 2s 780ms/step - loss: 1.7669e-04 - accuracy: 1.0000\n",
            "Epoch 88/100\n",
            "3/3 [==============================] - 2s 790ms/step - loss: 5.2073e-06 - accuracy: 1.0000\n",
            "Epoch 89/100\n",
            "3/3 [==============================] - 2s 795ms/step - loss: 7.9473e-10 - accuracy: 1.0000\n",
            "Epoch 90/100\n",
            "3/3 [==============================] - 2s 787ms/step - loss: 1.1921e-08 - accuracy: 1.0000\n",
            "Epoch 91/100\n",
            "3/3 [==============================] - 2s 786ms/step - loss: 5.2280e-06 - accuracy: 1.0000\n",
            "Epoch 92/100\n",
            "3/3 [==============================] - 2s 788ms/step - loss: 6.4105e-06 - accuracy: 1.0000\n",
            "Epoch 93/100\n",
            "3/3 [==============================] - 2s 793ms/step - loss: 8.1241e-07 - accuracy: 1.0000\n",
            "Epoch 94/100\n",
            "3/3 [==============================] - 2s 788ms/step - loss: 2.5034e-08 - accuracy: 1.0000\n",
            "Epoch 95/100\n",
            "3/3 [==============================] - 2s 793ms/step - loss: 1.4666e-06 - accuracy: 1.0000\n",
            "Epoch 96/100\n",
            "3/3 [==============================] - 2s 785ms/step - loss: 1.3033e-07 - accuracy: 1.0000\n",
            "Epoch 97/100\n",
            "3/3 [==============================] - 2s 787ms/step - loss: 0.0000e+00 - accuracy: 1.0000\n",
            "Epoch 98/100\n",
            "3/3 [==============================] - 2s 793ms/step - loss: 9.9341e-10 - accuracy: 1.0000\n",
            "Epoch 99/100\n",
            "3/3 [==============================] - 2s 789ms/step - loss: 2.4438e-08 - accuracy: 1.0000\n",
            "Epoch 100/100\n",
            "3/3 [==============================] - 2s 772ms/step - loss: 2.8687e-07 - accuracy: 1.0000\n"
          ]
        }
      ],
      "source": [
        "### YOUR CODE HERE ###\n",
        "newhistory = model.fit(X_test, y_test, batch_size=200, epochs=100)"
      ]
    },
    {
      "cell_type": "code",
      "execution_count": null,
      "metadata": {
        "colab": {
          "background_save": true
        },
        "id": "7GmUzk77Dpac",
        "outputId": "6c7928e0-f727-4b3f-9086-f2ab7b5bc386"
      },
      "outputs": [
        {
          "data": {
            "image/png": "[encoded data removed]",
            "text/plain": [
              "<Figure size 432x288 with 1 Axes>"
            ]
          },
          "metadata": {},
          "output_type": "display_data"
        },
        {
          "data": {
            "image/png": "[encoded data removed]",
            "text/plain": [
              "<Figure size 432x288 with 1 Axes>"
            ]
          },
          "metadata": {},
          "output_type": "display_data"
        }
      ],
      "source": [
        "plt.plot(newhistory.history['loss'])\n",
        "plt.title('Model Loss')\n",
        "plt.ylabel('Loss')\n",
        "plt.xlabel('Epochs')\n",
        "plt.legend(['train', 'test'])\n",
        "plt.show()\n",
        "\n",
        "plt.plot(newhistory.history['accuracy'])\n",
        "plt.title('Model Accuracy')\n",
        "plt.ylabel('Accuracy')\n",
        "plt.xlabel('Epochs')\n",
        "plt.legend(['train', 'test'])\n",
        "plt.show()"
      ]
    },
    {
      "cell_type": "markdown",
      "metadata": {
        "id": "OXdVut4462qR"
      },
      "source": [
        "#### Step 4) Hyperparameter Search\n",
        "\n",
        "1. List 3 hyperparameters that you think are most worth tuning. Choose at least one hyperparameter related to the model architecture.\n",
        "\n",
        "2. Tune the hyperparameters you listed previously, trying as many values as you need to until you feel satisfied that you are getting a good model. Plot the training curve of at least 4 different hyperparameter settings.\n",
        "\n",
        "3. Choose the best model out of all the ones that you have trained. Justify your choice.\n",
        "\n",
        "4. Report the test accuracy of your best model. You should only do this step once.\n",
        "\n",
        "\n",
        "\n",
        "\n",
        "\n"
      ]
    },
    {
      "cell_type": "code",
      "execution_count": null,
      "metadata": {
        "colab": {
          "background_save": true
        },
        "id": "Q86pN2Tw7UmW",
        "outputId": "64bd1ab4-cc2a-4da3-8b83-c24668652f62"
      },
      "outputs": [
        {
          "name": "stdout",
          "output_type": "stream",
          "text": [
            "Model: \"sequential_1\"\n",
            "_________________________________________________________________\n",
            "Layer (type)                 Output Shape              Param #   \n",
            "=================================================================\n",
            "conv2d_3 (Conv2D)            (None, 198, 198, 60)      1680      \n",
            "_________________________________________________________________\n",
            "max_pooling2d_3 (MaxPooling2 (None, 99, 99, 60)        0         \n",
            "_________________________________________________________________\n",
            "conv2d_4 (Conv2D)            (None, 97, 97, 100)       54100     \n",
            "_________________________________________________________________\n",
            "max_pooling2d_4 (MaxPooling2 (None, 48, 48, 100)       0         \n",
            "_________________________________________________________________\n",
            "conv2d_5 (Conv2D)            (None, 46, 46, 50)        45050     \n",
            "_________________________________________________________________\n",
            "max_pooling2d_5 (MaxPooling2 (None, 23, 23, 50)        0         \n",
            "_________________________________________________________________\n",
            "flatten_1 (Flatten)          (None, 26450)             0         \n",
            "_________________________________________________________________\n",
            "dense_2 (Dense)              (None, 100)               2645100   \n",
            "_________________________________________________________________\n",
            "dropout_1 (Dropout)          (None, 100)               0         \n",
            "_________________________________________________________________\n",
            "dense_3 (Dense)              (None, 29)                2929      \n",
            "=================================================================\n",
            "Total params: 2,748,859\n",
            "Trainable params: 2,748,859\n",
            "Non-trainable params: 0\n",
            "_________________________________________________________________\n"
          ]
        }
      ],
      "source": [
        "#model 1\n",
        "model_1 = Sequential()\n",
        "\n",
        "model_1.add(Input(shape=(200,200,3)))\n",
        "model_1.add(Conv2D(60, (3,3), activation='relu'))\n",
        "model_1.add(MaxPooling2D(2))\n",
        "\n",
        "model_1.add(Conv2D(100, (3,3), activation='relu'))\n",
        "model_1.add(MaxPooling2D(2))\n",
        "\n",
        "model_1.add(Conv2D(50, (3,3), activation='relu'))\n",
        "model_1.add(MaxPooling2D(2))\n",
        "\n",
        "model_1.add(Flatten())\n",
        "model_1.add(Dense(100, activation='relu'))\n",
        "model_1.add(Dropout(0.5))\n",
        "\n",
        "model_1.add(Dense(len(label_map), activation=\"softmax\"))\n",
        "\n",
        "model_1.summary()"
      ]
    },
    {
      "cell_type": "markdown",
      "metadata": {
        "id": "QS-xSNSjf1io"
      },
      "source": [
        "**Loss and accuracy for this model:**\n"
      ]
    },
    {
      "cell_type": "markdown",
      "metadata": {
        "id": "FuKqj6slf-Yf"
      },
      "source": [
        "![picture](https://drive.google.com/file/d/1V1GT2iAvYwFBhnijWlcXTrw1_dLHIv0z/view?usp=sharing)\n",
        "\n",
        "![picture](https://drive.google.com/file/d/1lDyuo63Yyihw1iTJBUM7fHyNGeyliyuW/view?usp=sharing)"
      ]
    },
    {
      "cell_type": "code",
      "execution_count": null,
      "metadata": {
        "id": "Dr_6UrOWdlxM"
      },
      "outputs": [],
      "source": [
        "#model 2 with an lower learning rate and added batchnormalization\n",
        "model_2 = Sequential()\n",
        "\n",
        "model_2.add(Input(shape=(200,200,3)))\n",
        "model_2.add(Conv2D(60, (3,3), activation='relu'))\n",
        "model_2.add(MaxPooling2D(2))\n",
        "\n",
        "model_2.add(Conv2D(100, (3,3), activation='relu'))\n",
        "model_2.add(MaxPooling2D(2))\n",
        "model_2.add(BatchNormalization())\n",
        "\n",
        "model_2.add(Conv2D(50, (3,3), activation='relu'))\n",
        "model_2.add(MaxPooling2D(2))\n",
        "\n",
        "model_2.add(Flatten())\n",
        "model_2.add(Dense(100, activation='relu'))\n",
        "model_2.add(Dropout(0.3))\n",
        "\n",
        "model_2.add(Dense(len(label_map), activation=\"softmax\"))\n",
        "\n",
        "model_2.summary()"
      ]
    },
    {
      "cell_type": "markdown",
      "metadata": {
        "id": "S04yRhe7i9Ce"
      },
      "source": [
        "**Loss and accuracy for this model:**\n"
      ]
    },
    {
      "cell_type": "markdown",
      "metadata": {
        "id": "Lva12WfFjE0t"
      },
      "source": [
        "![picture](https://drive.google.com/file/d/1yQw1irr2U2Who_YLVMEYMGFsp72W5oRR/view?usp=sharing)\n",
        "\n",
        "![picture](https://drive.google.com/file/d/12VplwB6mdi3yV_Z2iyB1UgIU0bW9N6Ws/view?usp=sharing)"
      ]
    },
    {
      "cell_type": "code",
      "execution_count": null,
      "metadata": {
        "id": "GJQRDA-yj1eg"
      },
      "outputs": [],
      "source": [
        "#model 3\n",
        "#model 2 with an lower learning rate and higher dropout\n",
        "model_3 = Sequential()\n",
        "\n",
        "model_3.add(Input(shape=(200,200,3)))\n",
        "model_3.add(Conv2D(60, (3,3), activation='relu'))\n",
        "model_3.add(MaxPooling2D(2))\n",
        "\n",
        "model_3.add(Conv2D(100, (3,3), activation='relu'))\n",
        "model_3.add(MaxPooling2D(2))\n",
        "\n",
        "model_3.add(Conv2D(50, (3,3), activation='relu'))\n",
        "model_3.add(MaxPooling2D(2))\n",
        "\n",
        "model_3.add(Flatten())\n",
        "model_3.add(Dense(100, activation='relu'))\n",
        "model_3.add(Dropout(0.7))\n",
        "\n",
        "model_3.add(Dense(len(label_map), activation=\"softmax\"))\n",
        "\n",
        "model_3.summary()"
      ]
    },
    {
      "cell_type": "markdown",
      "metadata": {
        "id": "ikFBG1hQnq9t"
      },
      "source": [
        "**Loss and accuracy for this model:**\n"
      ]
    },
    {
      "cell_type": "markdown",
      "metadata": {
        "id": "0fCjm9uynsbv"
      },
      "source": [
        "![picture](https://drive.google.com/file/d/1PVloMaVDjlrEGT11Z9ywzJQIPTskOf0I/view?usp=sharing)\n",
        "\n",
        "![picture](https://drive.google.com/file/d/1byd5TSCtkkfZPgj5Ho3AMxVTMnf8_ZoV/view?usp=sharing)"
      ]
    },
    {
      "cell_type": "markdown",
      "metadata": {
        "id": "vlfZqKrW7YJu"
      },
      "source": [
        "The 3 hyperparameters I chose to adjust were learning rate, adding batch normalization, and Dropout rate.\n",
        "\n",
        "Model 1 ended up becoming the most successful, with 99% accuracy on the training set and 85% on the validation set.\n"
      ]
    },
    {
      "cell_type": "markdown",
      "metadata": {
        "id": "L6t_qjLr7-uf"
      },
      "source": [
        "## Question 2 - Transfer Learning\n",
        "---\n",
        "For many image classification tasks, it is generally not a good idea to train a very large deep neural network model from scratch due to the enormous compute requirements and lack of sufficient amounts of training data.\n",
        "\n",
        "One of the better options is to try using an existing model that performs a similar task to the one you need to solve. This method of utilizing a pre-trained network for other similar tasks is broadly termed Transfer Learning. In this assignment, we will use Transfer Learning to extract features from the hand gesture images. Then, train a smaller network to use these features as input and classify the hand gestures.\n",
        "\n",
        "As you have learned from the CNN lecture, convolution layers extract various features from the images which get utilized by the fully connected layers for correct classification.\n"
      ]
    },
    {
      "cell_type": "markdown",
      "metadata": {
        "id": "UHk-PPM8KfZW"
      },
      "source": [
        "Keras even has pretrained models built in for this purpose.\n",
        "\n",
        "#### Keras Pretrained Models\n",
        "        Xception\n",
        "        VGG16\n",
        "        VGG19\n",
        "        ResNet, ResNetV2, ResNeXt\n",
        "        InceptionV3\n",
        "        InceptionResNetV2\n",
        "        MobileNet\n",
        "        MobileNetV2\n",
        "        DenseNet\n",
        "        NASNet\n",
        "\n",
        "Usually one uses the layers of the pretrained model up to some point, and then creates some fully connected layers to learn the desired recognition task. The earlier layers are \"frozen\", and only the later layers need to be trained. We'll use VGG16, which was trained to recognize 1000 objects in ImageNet. What we're doing here for our classifier may be akin to killing a fly with a shotgun, but the same process can be used to recognize objects the original network couldn't (i.e., you could use this technique to train your computer to recognize family and friends)."
      ]
    },
    {
      "cell_type": "code",
      "execution_count": null,
      "metadata": {
        "id": "Z7CNXqACKgQz"
      },
      "outputs": [],
      "source": [
        "# Some stuff we'll need...\n",
        "from tensorflow.keras.layers import Input\n",
        "from tensorflow.keras.applications.vgg16 import VGG16, preprocess_input\n",
        "from tensorflow.keras.preprocessing import image\n",
        "from tensorflow.keras.models import Model"
      ]
    },
    {
      "cell_type": "markdown",
      "metadata": {
        "id": "F4FK6jBJKxcC"
      },
      "source": [
        "Creating this pretrained network is a one line command. Notice we specified that the \"top\" should not be included. We aren't classifying 1000 different categories like ImageNet, so we don't include that layer. We'll add our own layer more suited to the task at hand.\n",
        "\n",
        "We choose 224 as our image dimension because the pretrained VGG16 was trained using the ImageNet dataset which has images of this dimension."
      ]
    },
    {
      "cell_type": "code",
      "execution_count": null,
      "metadata": {
        "id": "KR7DziD7KqEX"
      },
      "outputs": [],
      "source": [
        "# Import the VGG16 trained neural network model, minus it's last (top) neuron layer.\n",
        "base_model = VGG16(weights = 'imagenet',\n",
        "                   include_top = False,\n",
        "                   input_shape = (200, 200, 3),\n",
        "                   pooling = None)"
      ]
    },
    {
      "cell_type": "markdown",
      "metadata": {
        "id": "B6HReXu8K3wh"
      },
      "source": [
        "Let's take a look at this pretrained model:"
      ]
    },
    {
      "cell_type": "code",
      "execution_count": null,
      "metadata": {
        "id": "gPhnajBAKyKm"
      },
      "outputs": [],
      "source": [
        "base_model.summary()"
      ]
    },
    {
      "cell_type": "markdown",
      "metadata": {
        "id": "OEeQ9WXTLA6i"
      },
      "source": [
        "Please do realize, this may be overkill for our toy recognition task. One could use this network with some layers (as we're about to add) to recognize 100 dog breeds or to recognize all your friends. If you wanted to recognize 100 dog breeds, you would use a final 100 neuron softmax for the final layer. We'll need a final softmax layer as before. First let's freeze all these pretrained weights. They are fine as they are."
      ]
    },
    {
      "cell_type": "code",
      "execution_count": null,
      "metadata": {
        "id": "YTziRl8BK64Y"
      },
      "outputs": [],
      "source": [
        "# This freezes the weights of our VGG16 pretrained model.\n",
        "for layer in base_model.layers:\n",
        "    layer.trainable = False"
      ]
    },
    {
      "cell_type": "markdown",
      "metadata": {
        "id": "HhTrIRPbLMCB"
      },
      "source": [
        "### Part A) Building the Classifier\n",
        "Now let's just add a flatten layer, a trainable dense layer, and a final softmax layer to the network to complete the classifier model for our gesture recognition task. Use Keras' functional approach to building a network."
      ]
    },
    {
      "cell_type": "code",
      "execution_count": null,
      "metadata": {
        "id": "YstHSchOLM7N"
      },
      "outputs": [],
      "source": [
        "# Now add layers to our pre-trained base model and add classification layers on top of it\n",
        "x = base_model.output\n",
        "x = Flatten()(x)\n",
        "x = Dense(64, activation = 'relu')(x)\n",
        "x = Dense(len(label_map), activation = 'softmax')(x) ### YOUR CODE HERE ###\n",
        "\n",
        "# And now put this all together to create our new model.\n",
        "model = Model(inputs = base_model.input, outputs = x)\n",
        "model.summary()"
      ]
    },
    {
      "cell_type": "markdown",
      "metadata": {
        "id": "YMnWikXkLczn"
      },
      "source": [
        "### Part B) Initializing Training Parameters\n",
        "\n",
        "Compile the model using an appropriate loss function and optimizer."
      ]
    },
    {
      "cell_type": "code",
      "execution_count": null,
      "metadata": {
        "id": "vqWwKwCBLhyZ"
      },
      "outputs": [],
      "source": [
        "# Compile the model.\n",
        "model.compile(### YOUR CODE HERE ###\n",
        "              loss = 'categorical_crossentropy',\n",
        "              optimizer = Adagrad(lr = 0.001),\n",
        "              metrics = ['acc'])"
      ]
    },
    {
      "cell_type": "markdown",
      "metadata": {
        "id": "bUWfx4vYtblN"
      },
      "source": [
        "### Part C) Training the Model\n",
        "\n",
        "Train your new network, including any hyperparameter tuning. Plot the training curve of your best model only.\n",
        "\n",
        "As you can see here in the Keras docs:\n",
        "\n",
        "https://keras.io/api/applications/vgg/#vgg16-function\n",
        "\n",
        "that we are required to preprocess our image data in a specific way to use this pretrained model, so let's go ahead and do that first."
      ]
    },
    {
      "cell_type": "code",
      "execution_count": null,
      "metadata": {
        "id": "MX8s_zv6qM9G"
      },
      "outputs": [],
      "source": [
        "# Preprocess your input image data\n",
        "\n",
        "X_transfer_train = preprocess_input(X_train)"
      ]
    },
    {
      "cell_type": "code",
      "execution_count": null,
      "metadata": {
        "id": "m9U0HITqLl-7"
      },
      "outputs": [],
      "source": [
        "# Train the model\n",
        "\n",
        "history = model.fit(train_generator, steps_per_epoch=60,validation_data=train_generator_val,validation_steps=20, epochs=100)"
      ]
    },
    {
      "cell_type": "code",
      "execution_count": null,
      "metadata": {
        "id": "cyezuk-2M1Gq"
      },
      "outputs": [],
      "source": [
        "# Plot the training curve\n",
        "\n",
        "plt.plot(history.history['loss'])\n",
        "plt.title('Model Loss')\n",
        "plt.ylabel('Loss')\n",
        "plt.xlabel('Epochs')\n",
        "plt.legend(['train', 'test'])\n",
        "plt.show()\n",
        "\n",
        "plt.plot(history.history['acc'])\n",
        "plt.title('Model Accuracy')\n",
        "plt.ylabel('Accuracy')\n",
        "plt.xlabel('Epochs')\n",
        "plt.legend(['train', 'test'])\n",
        "plt.show()"
      ]
    },
    {
      "cell_type": "markdown",
      "metadata": {
        "id": "1Y8v3jO4jIMU"
      },
      "source": [
        "### Part D) Your Best Classifier\n",
        "\n",
        "Add on your own last layers to the pretrained model and train it on the training data (in the previous parts you could have only one flatten layer and one dense layer to do the classification). You can increase (or decrease) the number of nodes per layer, increase (or decrease) the number of layers, and add dropout if your model is overfitting, change the hyperparameters, change your optimizer, etc. Try to get the validation accuracy higher than what the previous transfer learning model was able to obtain, and try to minimize the amount of overfitting.\n",
        "\n",
        "Plot the classification accuracy for each epoch. Report the best test accuracy your model was able to achieve."
      ]
    },
    {
      "cell_type": "code",
      "execution_count": null,
      "metadata": {
        "id": "rXDiG-cdgsyZ"
      },
      "outputs": [],
      "source": [
        "x = base_model.output\n",
        "x = Flatten()(x)\n",
        "x = Dense(256, activation='relu')(x)\n",
        "x = Dropout(0.35)(x)\n",
        "x = Dense(64, activation='relu')(x)\n",
        "x = Dropout(0.35)(x)\n",
        "x = Dense(32, activation='relu')(x)\n",
        "x = Dropout(0.35)(x)\n",
        "x = Dense(32, activation='relu')(x)\n",
        "x = Dropout(0.35)(x)\n",
        "\n",
        "x = Dense(len(label_map), activation = 'softmax')(x)\n",
        "model = Model(inputs = base_model.input, outputs = x)\n",
        "model.summary()"
      ]
    },
    {
      "cell_type": "markdown",
      "metadata": {
        "id": "oPZB5dK0DXIF"
      },
      "source": [
        "Training Acc: 93%\n"
      ]
    }
  ],
  "metadata": {
    "accelerator": "GPU",
    "colab": {
      "provenance": [],
      "include_colab_link": true
    },
    "kernelspec": {
      "display_name": "Python 3",
      "name": "python3"
    }
  },
  "nbformat": 4,
  "nbformat_minor": 0
}